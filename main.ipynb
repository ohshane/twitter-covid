{
 "cells": [
  {
   "cell_type": "code",
   "execution_count": 1,
   "source": [
    "import tweepy\n",
    "import os\n",
    "import csv\n",
    "from pathlib import Path\n",
    "from dotenv import load_dotenv\n",
    "\n",
    "root_dir = Path(os.path.abspath(\"__file__\")).parent\n",
    "dataset_dir = root_dir / \"data\"\n",
    "\n",
    "load_dotenv()\n",
    "\n",
    "# Go to https://developer.twitter.com/en/apps to create an app and get values\n",
    "# for these credentials, which you'll need to provide in place of these\n",
    "# empty string values that are defined as placeholders.\n",
    "# See https://developer.twitter.com/en/docs/basics/authentication/overview/oauth\n",
    "# for more information on Twitter's OAuth implementation.\n",
    "\n",
    "CONSUMER_KEY = os.getenv(\"CONSUMER_KEY\")\n",
    "CONSUMER_SECRET = os.getenv(\"CONSUMER_SECRET\")\n",
    "ACCESS_TOKEN_KEY = os.getenv(\"ACCESS_TOKEN_KEY\")\n",
    "ACCESS_TOKEN_SECRET = os.getenv(\"ACCESS_TOKEN_SECRET\")\n",
    "\n",
    "auth = tweepy.OAuthHandler(CONSUMER_KEY, CONSUMER_SECRET)\n",
    "auth.set_access_token(ACCESS_TOKEN_KEY, ACCESS_TOKEN_SECRET)\n",
    "\n",
    "api = tweepy.API(auth,\n",
    "                 wait_on_rate_limit=True,\n",
    "                 wait_on_rate_limit_notify=True)"
   ],
   "outputs": [],
   "metadata": {}
  },
  {
   "cell_type": "code",
   "execution_count": null,
   "source": [
    "keywords = [\n",
    "    \"COVID19\",\n",
    "    \"Covid19\",\n",
    "    \"covid19\",\n",
    "    \"coronavirus\",\n",
    "    \"COVID\",\n",
    "    \"Coronavirus\",\n",
    "    \"Covid_19\",\n",
    "]\n",
    "\n",
    "date_since = \"2019-12-31\"\n",
    "\n",
    "tweets = tweepy.Cursor(\n",
    "    api.search,\n",
    "    q=\" OR \".join(keywords),\n",
    "    lang=\"en\",\n",
    "    since=date_since\n",
    ").items()\n",
    "\n",
    "f = open(dataset_dir / \"test.csv\", \"a\")\n",
    "count = 0\n",
    "\n",
    "for tweet in tweets:\n",
    "    f = open(dataset_dir / \"test.csv\", \"a\")\n",
    "    csv_file = csv.writer(f)\n",
    "    l = list(map(lambda x: x[\"text\"],tweet.entities[\"hashtags\"]))\n",
    "    if l:\n",
    "        count += 1\n",
    "        csv_file.writerow(l)\n",
    "        print(f\"\\rcount: {count}\", end=\"\")\n",
    "    f.close()\n",
    "\n",
    "f.close()"
   ],
   "outputs": [],
   "metadata": {}
  }
 ],
 "metadata": {
  "orig_nbformat": 4,
  "language_info": {
   "name": "python",
   "version": "3.8.8",
   "mimetype": "text/x-python",
   "codemirror_mode": {
    "name": "ipython",
    "version": 3
   },
   "pygments_lexer": "ipython3",
   "nbconvert_exporter": "python",
   "file_extension": ".py"
  },
  "kernelspec": {
   "name": "python3",
   "display_name": "Python 3.8.8 64-bit ('venv': venv)"
  },
  "interpreter": {
   "hash": "cd7133429d1e8330910e85b3d2154b941f32fa8d48bbdfff832b38104cb21237"
  }
 },
 "nbformat": 4,
 "nbformat_minor": 2
}