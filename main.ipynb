{
 "cells": [
  {
   "cell_type": "code",
   "execution_count": null,
   "source": [
    "import tweepy\n",
    "import os\n",
    "import csv\n",
    "from pathlib import Path\n",
    "from dotenv import load_dotenv\n",
    "\n",
    "root_dir = Path(os.path.abspath(\"__file__\")).parent\n",
    "dataset_dir = root_dir / \"data\"\n",
    "\n",
    "load_dotenv()\n",
    "\n",
    "# Go to https://developer.twitter.com/en/apps to create an app and get values\n",
    "# for these credentials, which you'll need to provide in place of these\n",
    "# empty string values that are defined as placeholders.\n",
    "# See https://developer.twitter.com/en/docs/basics/authentication/overview/oauth\n",
    "# for more information on Twitter's OAuth implementation.\n",
    "\n",
    "CONSUMER_KEY = os.getenv(\"CONSUMER_KEY\")\n",
    "CONSUMER_SECRET = os.getenv(\"CONSUMER_SECRET\")\n",
    "ACCESS_TOKEN_KEY = os.getenv(\"ACCESS_TOKEN_KEY\")\n",
    "ACCESS_TOKEN_SECRET = os.getenv(\"ACCESS_TOKEN_SECRET\")\n",
    "\n",
    "auth = tweepy.OAuthHandler(CONSUMER_KEY, CONSUMER_SECRET)\n",
    "auth.set_access_token(ACCESS_TOKEN_KEY, ACCESS_TOKEN_SECRET)\n",
    "\n",
    "api = tweepy.API(auth,\n",
    "                 wait_on_rate_limit=True,\n",
    "                 wait_on_rate_limit_notify=True)"
   ],
   "outputs": [],
   "metadata": {}
  },
  {
   "cell_type": "code",
   "execution_count": null,
   "source": [
    "keywords = [\n",
    "    \"COVID-19\",\n",
    "    \"COVID19\",\n",
    "    \"covid-19\",\n",
    "    \"covid19\",\n",
    "    \"coronavirus\",\n",
    "]\n",
    "\n",
    "date_since = \"2019-12-31\"\n",
    "\n",
    "tweets = tweepy.Cursor(\n",
    "    api.search,\n",
    "    q=\" OR \".join(keywords),\n",
    "    lang=\"en\",\n",
    "    since=date_since\n",
    ").items()\n",
    "\n",
    "f = open(dataset_dir / \"test.csv\", \"a\")\n",
    "count = 0\n",
    "\n",
    "for tweet in tweets:\n",
    "    f = open(dataset_dir / \"test.csv\", \"a\")\n",
    "    csv_file = csv.writer(f)\n",
    "    l = list(map(lambda x: x[\"text\"],tweet.entities[\"hashtags\"]))\n",
    "    if l:\n",
    "        count += 1\n",
    "        csv_file.writerow(l)\n",
    "        print(f\"\\rcount: {count}\", end=\"\")\n",
    "    f.close()\n",
    "\n",
    "f.close()"
   ],
   "outputs": [],
   "metadata": {}
  },
  {
   "cell_type": "code",
   "execution_count": 7,
   "source": [
    "import tweepy\n",
    "import os\n",
    "import csv\n",
    "from pathlib import Path\n",
    "from dotenv import load_dotenv\n",
    "import pandas as pd\n",
    "\n",
    "root_dir = Path(os.path.abspath(\"__file__\")).parent\n",
    "dataset_dir = root_dir / \"data\"\n",
    "data_dir = dataset_dir / \"test.csv\"\n",
    "\n",
    "hashtags = []\n",
    "with open(data_dir, newline=\"\") as f:\n",
    "    reader = csv.reader(f)\n",
    "    for row in reader:\n",
    "        hashtags += row\n",
    "\n",
    "hashtag_dict = dict(zip(list(hashtags), [list(hashtags).count(i) for i in list(hashtags)]))\n",
    "hashtag_dict = sorted(hashtag_dict.items(), key=lambda x: x[1], reverse=True)\n",
    "\n",
    "df = pd.DataFrame(hashtag_dict)\n",
    "df.rename(columns={0: \"keyword\", 1: \"count\"}, inplace=True)\n",
    "\n",
    "total_counts = df[\"count\"].sum()\n",
    "print(f\"total keywords: {len(df.index)}\")\n",
    "print(f\"total counts  : {total_counts}\")\n",
    "print()\n",
    "print(df.head(20))\n",
    "df.head(20).plot.bar()\n",
    "df.loc[1:51].plot.bar()"
   ],
   "outputs": [
    {
     "output_type": "stream",
     "name": "stdout",
     "text": [
      "total keywords: 2725\n",
      "total counts  : 16991\n",
      "\n",
      "                keyword  count\n",
      "0               COVID19   4494\n",
      "1               Covid19    382\n",
      "2               covid19    307\n",
      "3           coronavirus    283\n",
      "4                 COVID    232\n",
      "5   Vaccinationpassport    185\n",
      "6                 India    160\n",
      "7           Coronavirus    144\n",
      "8                  Iran    142\n",
      "9                  Mask    137\n",
      "10          mohdelivers    124\n",
      "11                   US    118\n",
      "12              vaccine    105\n",
      "13                  USA    101\n",
      "14   SciencePerspective     94\n",
      "15             Covid_19     84\n",
      "16    IndiaFightsCorona     78\n",
      "17              MYANMAR     73\n",
      "18              Tripura     70\n",
      "19                China     63\n"
     ]
    },
    {
     "output_type": "execute_result",
     "data": {
      "text/plain": [
       "<AxesSubplot:>"
      ]
     },
     "metadata": {},
     "execution_count": 7
    },
    {
     "output_type": "display_data",
     "data": {
      "image/png": "[encoded data removed]",
      "text/plain": [
       "<Figure size 432x288 with 1 Axes>"
      ]
     },
     "metadata": {
      "needs_background": "light"
     }
    },
    {
     "output_type": "display_data",
     "data": {
      "image/png": "[encoded data removed]",
      "text/plain": [
       "<Figure size 432x288 with 1 Axes>"
      ]
     },
     "metadata": {
      "needs_background": "light"
     }
    }
   ],
   "metadata": {}
  }
 ],
 "metadata": {
  "orig_nbformat": 4,
  "language_info": {
   "name": "python",
   "version": "3.8.8",
   "mimetype": "text/x-python",
   "codemirror_mode": {
    "name": "ipython",
    "version": 3
   },
   "pygments_lexer": "ipython3",
   "nbconvert_exporter": "python",
   "file_extension": ".py"
  },
  "kernelspec": {
   "name": "python3",
   "display_name": "Python 3.8.8 64-bit ('venv': venv)"
  },
  "interpreter": {
   "hash": "cd7133429d1e8330910e85b3d2154b941f32fa8d48bbdfff832b38104cb21237"
  }
 },
 "nbformat": 4,
 "nbformat_minor": 2
}